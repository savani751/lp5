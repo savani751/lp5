{
 "cells": [
  {
   "cell_type": "code",
   "execution_count": 15,
   "id": "ee809cc3",
   "metadata": {},
   "outputs": [],
   "source": [
    "import pandas as pd \n",
    "import numpy as np\n",
    "\n",
    "from sklearn.datasets import load_boston\n",
    "from sklearn.preprocessing import StandardScaler\n",
    "from sklearn.model_selection import train_test_split\n",
    "from tensorflow.keras.models import Sequential\n",
    "from tensorflow.keras.layers import Dense \n",
    "from tensorflow.keras.optimizers import Adam\n",
    "\n",
    "\n",
    "import warnings \n",
    "warnings.filterwarnings(\"ignore\")"
   ]
  },
  {
   "cell_type": "code",
   "execution_count": 16,
   "id": "5a20f82a",
   "metadata": {},
   "outputs": [],
   "source": [
    " \n",
    "boston = load_boston()\n"
   ]
  },
  {
   "cell_type": "code",
   "execution_count": 17,
   "id": "3846f291",
   "metadata": {},
   "outputs": [
    {
     "data": {
      "text/plain": [
       "array([24. , 21.6, 34.7, 33.4, 36.2, 28.7, 22.9, 27.1, 16.5, 18.9, 15. ,\n",
       "       18.9, 21.7, 20.4, 18.2, 19.9, 23.1, 17.5, 20.2, 18.2, 13.6, 19.6,\n",
       "       15.2, 14.5, 15.6, 13.9, 16.6, 14.8, 18.4, 21. , 12.7, 14.5, 13.2,\n",
       "       13.1, 13.5, 18.9, 20. , 21. , 24.7, 30.8, 34.9, 26.6, 25.3, 24.7,\n",
       "       21.2, 19.3, 20. , 16.6, 14.4, 19.4, 19.7, 20.5, 25. , 23.4, 18.9,\n",
       "       35.4, 24.7, 31.6, 23.3, 19.6, 18.7, 16. , 22.2, 25. , 33. , 23.5,\n",
       "       19.4, 22. , 17.4, 20.9, 24.2, 21.7, 22.8, 23.4, 24.1, 21.4, 20. ,\n",
       "       20.8, 21.2, 20.3, 28. , 23.9, 24.8, 22.9, 23.9, 26.6, 22.5, 22.2,\n",
       "       23.6, 28.7, 22.6, 22. , 22.9, 25. , 20.6, 28.4, 21.4, 38.7, 43.8,\n",
       "       33.2, 27.5, 26.5, 18.6, 19.3, 20.1, 19.5, 19.5, 20.4, 19.8, 19.4,\n",
       "       21.7, 22.8, 18.8, 18.7, 18.5, 18.3, 21.2, 19.2, 20.4, 19.3, 22. ,\n",
       "       20.3, 20.5, 17.3, 18.8, 21.4, 15.7, 16.2, 18. , 14.3, 19.2, 19.6,\n",
       "       23. , 18.4, 15.6, 18.1, 17.4, 17.1, 13.3, 17.8, 14. , 14.4, 13.4,\n",
       "       15.6, 11.8, 13.8, 15.6, 14.6, 17.8, 15.4, 21.5, 19.6, 15.3, 19.4,\n",
       "       17. , 15.6, 13.1, 41.3, 24.3, 23.3, 27. , 50. , 50. , 50. , 22.7,\n",
       "       25. , 50. , 23.8, 23.8, 22.3, 17.4, 19.1, 23.1, 23.6, 22.6, 29.4,\n",
       "       23.2, 24.6, 29.9, 37.2, 39.8, 36.2, 37.9, 32.5, 26.4, 29.6, 50. ,\n",
       "       32. , 29.8, 34.9, 37. , 30.5, 36.4, 31.1, 29.1, 50. , 33.3, 30.3,\n",
       "       34.6, 34.9, 32.9, 24.1, 42.3, 48.5, 50. , 22.6, 24.4, 22.5, 24.4,\n",
       "       20. , 21.7, 19.3, 22.4, 28.1, 23.7, 25. , 23.3, 28.7, 21.5, 23. ,\n",
       "       26.7, 21.7, 27.5, 30.1, 44.8, 50. , 37.6, 31.6, 46.7, 31.5, 24.3,\n",
       "       31.7, 41.7, 48.3, 29. , 24. , 25.1, 31.5, 23.7, 23.3, 22. , 20.1,\n",
       "       22.2, 23.7, 17.6, 18.5, 24.3, 20.5, 24.5, 26.2, 24.4, 24.8, 29.6,\n",
       "       42.8, 21.9, 20.9, 44. , 50. , 36. , 30.1, 33.8, 43.1, 48.8, 31. ,\n",
       "       36.5, 22.8, 30.7, 50. , 43.5, 20.7, 21.1, 25.2, 24.4, 35.2, 32.4,\n",
       "       32. , 33.2, 33.1, 29.1, 35.1, 45.4, 35.4, 46. , 50. , 32.2, 22. ,\n",
       "       20.1, 23.2, 22.3, 24.8, 28.5, 37.3, 27.9, 23.9, 21.7, 28.6, 27.1,\n",
       "       20.3, 22.5, 29. , 24.8, 22. , 26.4, 33.1, 36.1, 28.4, 33.4, 28.2,\n",
       "       22.8, 20.3, 16.1, 22.1, 19.4, 21.6, 23.8, 16.2, 17.8, 19.8, 23.1,\n",
       "       21. , 23.8, 23.1, 20.4, 18.5, 25. , 24.6, 23. , 22.2, 19.3, 22.6,\n",
       "       19.8, 17.1, 19.4, 22.2, 20.7, 21.1, 19.5, 18.5, 20.6, 19. , 18.7,\n",
       "       32.7, 16.5, 23.9, 31.2, 17.5, 17.2, 23.1, 24.5, 26.6, 22.9, 24.1,\n",
       "       18.6, 30.1, 18.2, 20.6, 17.8, 21.7, 22.7, 22.6, 25. , 19.9, 20.8,\n",
       "       16.8, 21.9, 27.5, 21.9, 23.1, 50. , 50. , 50. , 50. , 50. , 13.8,\n",
       "       13.8, 15. , 13.9, 13.3, 13.1, 10.2, 10.4, 10.9, 11.3, 12.3,  8.8,\n",
       "        7.2, 10.5,  7.4, 10.2, 11.5, 15.1, 23.2,  9.7, 13.8, 12.7, 13.1,\n",
       "       12.5,  8.5,  5. ,  6.3,  5.6,  7.2, 12.1,  8.3,  8.5,  5. , 11.9,\n",
       "       27.9, 17.2, 27.5, 15. , 17.2, 17.9, 16.3,  7. ,  7.2,  7.5, 10.4,\n",
       "        8.8,  8.4, 16.7, 14.2, 20.8, 13.4, 11.7,  8.3, 10.2, 10.9, 11. ,\n",
       "        9.5, 14.5, 14.1, 16.1, 14.3, 11.7, 13.4,  9.6,  8.7,  8.4, 12.8,\n",
       "       10.5, 17.1, 18.4, 15.4, 10.8, 11.8, 14.9, 12.6, 14.1, 13. , 13.4,\n",
       "       15.2, 16.1, 17.8, 14.9, 14.1, 12.7, 13.5, 14.9, 20. , 16.4, 17.7,\n",
       "       19.5, 20.2, 21.4, 19.9, 19. , 19.1, 19.1, 20.1, 19.9, 19.6, 23.2,\n",
       "       29.8, 13.8, 13.3, 16.7, 12. , 14.6, 21.4, 23. , 23.7, 25. , 21.8,\n",
       "       20.6, 21.2, 19.1, 20.6, 15.2,  7. ,  8.1, 13.6, 20.1, 21.8, 24.5,\n",
       "       23.1, 19.7, 18.3, 21.2, 17.5, 16.8, 22.4, 20.6, 23.9, 22. , 11.9])"
      ]
     },
     "execution_count": 17,
     "metadata": {},
     "output_type": "execute_result"
    }
   ],
   "source": [
    "X = boston.data\n",
    "y = boston.target\n",
    "\n",
    "y"
   ]
  },
  {
   "cell_type": "code",
   "execution_count": 18,
   "id": "5ddc43b0",
   "metadata": {},
   "outputs": [],
   "source": [
    "scaler = StandardScaler()\n",
    "X = scaler.fit_transform(X)\n"
   ]
  },
  {
   "cell_type": "code",
   "execution_count": 19,
   "id": "d40a8fb7",
   "metadata": {},
   "outputs": [],
   "source": [
    "x_train, x_test, y_train, y_test = train_test_split(X, y, random_state=42, test_size=0.2)"
   ]
  },
  {
   "cell_type": "code",
   "execution_count": 20,
   "id": "63b3316b",
   "metadata": {},
   "outputs": [],
   "source": [
    "model  = Sequential()\n",
    "model.add(Dense(1, input_shape = (x_train.shape[1],)))"
   ]
  },
  {
   "cell_type": "code",
   "execution_count": 21,
   "id": "c266a890",
   "metadata": {},
   "outputs": [
    {
     "name": "stdout",
     "output_type": "stream",
     "text": [
      "Model: \"sequential_1\"\n",
      "_________________________________________________________________\n",
      " Layer (type)                Output Shape              Param #   \n",
      "=================================================================\n",
      " dense_1 (Dense)             (None, 1)                 14        \n",
      "                                                                 \n",
      " input (Dense)               (None, 128)               256       \n",
      "                                                                 \n",
      " layer_1 (Dense)             (None, 64)                8256      \n",
      "                                                                 \n",
      " output (Dense)              (None, 1)                 65        \n",
      "                                                                 \n",
      "=================================================================\n",
      "Total params: 8,591\n",
      "Trainable params: 8,591\n",
      "Non-trainable params: 0\n",
      "_________________________________________________________________\n"
     ]
    }
   ],
   "source": [
    "#model.compile(loss = 'mean_squared_error', optimizer = Adam(learning_rate=0.01) )\n",
    "#build model\n",
    "model.add(Dense(128,input_shape=(3,),activation='relu',name='input'))\n",
    "model.add(Dense(64,activation='relu',name='layer_1'))\n",
    "model.add(Dense(1,activation='linear',name='output'))\n",
    "\n",
    "#compile the mode\n",
    "model.compile(optimizer='adam', loss='mse', metrics=['mae'])\n",
    "model.summary()"
   ]
  },
  {
   "cell_type": "code",
   "execution_count": 22,
   "id": "5f6b375a",
   "metadata": {},
   "outputs": [
    {
     "name": "stdout",
     "output_type": "stream",
     "text": [
      "Epoch 1/100\n",
      "13/13 [==============================] - 1s 2ms/step - loss: 595.5581 - mae: 22.5290\n",
      "Epoch 2/100\n",
      "13/13 [==============================] - 0s 2ms/step - loss: 561.6024 - mae: 21.7170\n",
      "Epoch 3/100\n",
      "13/13 [==============================] - 0s 2ms/step - loss: 515.6296 - mae: 20.5108\n",
      "Epoch 4/100\n",
      "13/13 [==============================] - 0s 2ms/step - loss: 447.3815 - mae: 18.6115\n",
      "Epoch 5/100\n",
      "13/13 [==============================] - 0s 2ms/step - loss: 363.6310 - mae: 16.1587\n",
      "Epoch 6/100\n",
      "13/13 [==============================] - 0s 2ms/step - loss: 283.0500 - mae: 13.8229\n",
      "Epoch 7/100\n",
      "13/13 [==============================] - 0s 2ms/step - loss: 233.7651 - mae: 12.2226\n",
      "Epoch 8/100\n",
      "13/13 [==============================] - 0s 2ms/step - loss: 209.1283 - mae: 11.3736\n",
      "Epoch 9/100\n",
      "13/13 [==============================] - 0s 2ms/step - loss: 195.2943 - mae: 10.8122\n",
      "Epoch 10/100\n",
      "13/13 [==============================] - 0s 2ms/step - loss: 180.8626 - mae: 10.2774\n",
      "Epoch 11/100\n",
      "13/13 [==============================] - 0s 2ms/step - loss: 166.3340 - mae: 9.7486\n",
      "Epoch 12/100\n",
      "13/13 [==============================] - 0s 2ms/step - loss: 151.7923 - mae: 9.2194\n",
      "Epoch 13/100\n",
      "13/13 [==============================] - 0s 2ms/step - loss: 138.5039 - mae: 8.7007\n",
      "Epoch 14/100\n",
      "13/13 [==============================] - 0s 2ms/step - loss: 126.4364 - mae: 8.2210\n",
      "Epoch 15/100\n",
      "13/13 [==============================] - 0s 2ms/step - loss: 116.6182 - mae: 7.7924\n",
      "Epoch 16/100\n",
      "13/13 [==============================] - 0s 2ms/step - loss: 108.5475 - mae: 7.4563\n",
      "Epoch 17/100\n",
      "13/13 [==============================] - 0s 2ms/step - loss: 101.8351 - mae: 7.1600\n",
      "Epoch 18/100\n",
      "13/13 [==============================] - 0s 2ms/step - loss: 97.6266 - mae: 7.0092\n",
      "Epoch 19/100\n",
      "13/13 [==============================] - 0s 2ms/step - loss: 93.1981 - mae: 6.8074\n",
      "Epoch 20/100\n",
      "13/13 [==============================] - 0s 2ms/step - loss: 89.8913 - mae: 6.6527\n",
      "Epoch 21/100\n",
      "13/13 [==============================] - 0s 2ms/step - loss: 87.4446 - mae: 6.6047\n",
      "Epoch 22/100\n",
      "13/13 [==============================] - 0s 2ms/step - loss: 85.2744 - mae: 6.4666\n",
      "Epoch 23/100\n",
      "13/13 [==============================] - 0s 2ms/step - loss: 83.0086 - mae: 6.3984\n",
      "Epoch 24/100\n",
      "13/13 [==============================] - 0s 2ms/step - loss: 81.5384 - mae: 6.4095\n",
      "Epoch 25/100\n",
      "13/13 [==============================] - 0s 2ms/step - loss: 79.9312 - mae: 6.3027\n",
      "Epoch 26/100\n",
      "13/13 [==============================] - 0s 2ms/step - loss: 78.7117 - mae: 6.2774\n",
      "Epoch 27/100\n",
      "13/13 [==============================] - 0s 2ms/step - loss: 77.4832 - mae: 6.2159\n",
      "Epoch 28/100\n",
      "13/13 [==============================] - 0s 2ms/step - loss: 76.1917 - mae: 6.1698\n",
      "Epoch 29/100\n",
      "13/13 [==============================] - 0s 2ms/step - loss: 75.0506 - mae: 6.1842\n",
      "Epoch 30/100\n",
      "13/13 [==============================] - 0s 2ms/step - loss: 73.9679 - mae: 6.1018\n",
      "Epoch 31/100\n",
      "13/13 [==============================] - 0s 2ms/step - loss: 73.1763 - mae: 6.0537\n",
      "Epoch 32/100\n",
      "13/13 [==============================] - 0s 2ms/step - loss: 72.1100 - mae: 6.0107\n",
      "Epoch 33/100\n",
      "13/13 [==============================] - 0s 2ms/step - loss: 71.6819 - mae: 6.1079\n",
      "Epoch 34/100\n",
      "13/13 [==============================] - 0s 2ms/step - loss: 70.6713 - mae: 5.9620\n",
      "Epoch 35/100\n",
      "13/13 [==============================] - 0s 2ms/step - loss: 69.8844 - mae: 5.9478\n",
      "Epoch 36/100\n",
      "13/13 [==============================] - 0s 3ms/step - loss: 69.2307 - mae: 5.9032\n",
      "Epoch 37/100\n",
      "13/13 [==============================] - 0s 2ms/step - loss: 68.7871 - mae: 6.0118\n",
      "Epoch 38/100\n",
      "13/13 [==============================] - 0s 2ms/step - loss: 68.0399 - mae: 5.9875\n",
      "Epoch 39/100\n",
      "13/13 [==============================] - 0s 2ms/step - loss: 67.5532 - mae: 5.8449\n",
      "Epoch 40/100\n",
      "13/13 [==============================] - 0s 2ms/step - loss: 67.2685 - mae: 5.9060\n",
      "Epoch 41/100\n",
      "13/13 [==============================] - 0s 2ms/step - loss: 66.4232 - mae: 5.8843\n",
      "Epoch 42/100\n",
      "13/13 [==============================] - 0s 2ms/step - loss: 66.1014 - mae: 5.8626\n",
      "Epoch 43/100\n",
      "13/13 [==============================] - 0s 2ms/step - loss: 65.6210 - mae: 5.8225\n",
      "Epoch 44/100\n",
      "13/13 [==============================] - 0s 2ms/step - loss: 65.2680 - mae: 5.8107\n",
      "Epoch 45/100\n",
      "13/13 [==============================] - 0s 2ms/step - loss: 64.9135 - mae: 5.8424\n",
      "Epoch 46/100\n",
      "13/13 [==============================] - 0s 2ms/step - loss: 64.4774 - mae: 5.8294\n",
      "Epoch 47/100\n",
      "13/13 [==============================] - 0s 2ms/step - loss: 64.1372 - mae: 5.8164\n",
      "Epoch 48/100\n",
      "13/13 [==============================] - 0s 2ms/step - loss: 63.7609 - mae: 5.7622\n",
      "Epoch 49/100\n",
      "13/13 [==============================] - 0s 2ms/step - loss: 63.3831 - mae: 5.7596\n",
      "Epoch 50/100\n",
      "13/13 [==============================] - 0s 2ms/step - loss: 63.2237 - mae: 5.8343\n",
      "Epoch 51/100\n",
      "13/13 [==============================] - 0s 2ms/step - loss: 63.0100 - mae: 5.7243\n",
      "Epoch 52/100\n",
      "13/13 [==============================] - 0s 2ms/step - loss: 63.0354 - mae: 5.7315\n",
      "Epoch 53/100\n",
      "13/13 [==============================] - 0s 2ms/step - loss: 62.1368 - mae: 5.6989\n",
      "Epoch 54/100\n",
      "13/13 [==============================] - 0s 2ms/step - loss: 62.1283 - mae: 5.6871\n",
      "Epoch 55/100\n",
      "13/13 [==============================] - 0s 2ms/step - loss: 61.7584 - mae: 5.6868\n",
      "Epoch 56/100\n",
      "13/13 [==============================] - 0s 2ms/step - loss: 61.3547 - mae: 5.6638\n",
      "Epoch 57/100\n",
      "13/13 [==============================] - 0s 2ms/step - loss: 61.1173 - mae: 5.6407\n",
      "Epoch 58/100\n",
      "13/13 [==============================] - 0s 2ms/step - loss: 60.9131 - mae: 5.5870\n",
      "Epoch 59/100\n",
      "13/13 [==============================] - 0s 2ms/step - loss: 60.7136 - mae: 5.6318\n",
      "Epoch 60/100\n",
      "13/13 [==============================] - 0s 2ms/step - loss: 60.8232 - mae: 5.6878\n",
      "Epoch 61/100\n",
      "13/13 [==============================] - 0s 2ms/step - loss: 60.8351 - mae: 5.5231\n",
      "Epoch 62/100\n",
      "13/13 [==============================] - 0s 2ms/step - loss: 59.8310 - mae: 5.5535\n",
      "Epoch 63/100\n",
      "13/13 [==============================] - 0s 2ms/step - loss: 59.8618 - mae: 5.6454\n",
      "Epoch 64/100\n",
      "13/13 [==============================] - 0s 2ms/step - loss: 59.4169 - mae: 5.5306\n",
      "Epoch 65/100\n",
      "13/13 [==============================] - 0s 2ms/step - loss: 59.4032 - mae: 5.5182\n",
      "Epoch 66/100\n",
      "13/13 [==============================] - 0s 1ms/step - loss: 59.0105 - mae: 5.4741\n",
      "Epoch 67/100\n",
      "13/13 [==============================] - 0s 2ms/step - loss: 58.7777 - mae: 5.4835\n",
      "Epoch 68/100\n",
      "13/13 [==============================] - 0s 1ms/step - loss: 58.5331 - mae: 5.4614\n",
      "Epoch 69/100\n",
      "13/13 [==============================] - 0s 1ms/step - loss: 58.3568 - mae: 5.4702\n",
      "Epoch 70/100\n",
      "13/13 [==============================] - 0s 2ms/step - loss: 58.2969 - mae: 5.3847\n",
      "Epoch 71/100\n",
      "13/13 [==============================] - 0s 1ms/step - loss: 58.0915 - mae: 5.4613\n",
      "Epoch 72/100\n",
      "13/13 [==============================] - 0s 1ms/step - loss: 57.9310 - mae: 5.4176\n",
      "Epoch 73/100\n",
      "13/13 [==============================] - 0s 1ms/step - loss: 57.3956 - mae: 5.3905\n",
      "Epoch 74/100\n",
      "13/13 [==============================] - 0s 2ms/step - loss: 57.2172 - mae: 5.4240\n",
      "Epoch 75/100\n",
      "13/13 [==============================] - 0s 1ms/step - loss: 56.9447 - mae: 5.3388\n",
      "Epoch 76/100\n",
      "13/13 [==============================] - 0s 1ms/step - loss: 56.8761 - mae: 5.3344\n",
      "Epoch 77/100\n",
      "13/13 [==============================] - 0s 1ms/step - loss: 56.5936 - mae: 5.2993\n",
      "Epoch 78/100\n",
      "13/13 [==============================] - 0s 2ms/step - loss: 56.1720 - mae: 5.3506\n",
      "Epoch 79/100\n",
      "13/13 [==============================] - 0s 1ms/step - loss: 56.0021 - mae: 5.3123\n",
      "Epoch 80/100\n",
      "13/13 [==============================] - 0s 2ms/step - loss: 55.7315 - mae: 5.3302\n",
      "Epoch 81/100\n",
      "13/13 [==============================] - 0s 1ms/step - loss: 55.5824 - mae: 5.2322\n",
      "Epoch 82/100\n",
      "13/13 [==============================] - 0s 1ms/step - loss: 55.1369 - mae: 5.1994\n",
      "Epoch 83/100\n",
      "13/13 [==============================] - 0s 2ms/step - loss: 55.1883 - mae: 5.2847\n",
      "Epoch 84/100\n",
      "13/13 [==============================] - 0s 2ms/step - loss: 55.0630 - mae: 5.1671\n",
      "Epoch 85/100\n",
      "13/13 [==============================] - 0s 2ms/step - loss: 55.1156 - mae: 5.3127\n",
      "Epoch 86/100\n"
     ]
    },
    {
     "name": "stdout",
     "output_type": "stream",
     "text": [
      "13/13 [==============================] - 0s 2ms/step - loss: 54.2220 - mae: 5.1308\n",
      "Epoch 87/100\n",
      "13/13 [==============================] - 0s 2ms/step - loss: 53.8400 - mae: 5.0634\n",
      "Epoch 88/100\n",
      "13/13 [==============================] - 0s 2ms/step - loss: 53.4899 - mae: 5.1604\n",
      "Epoch 89/100\n",
      "13/13 [==============================] - 0s 2ms/step - loss: 53.3176 - mae: 5.1754\n",
      "Epoch 90/100\n",
      "13/13 [==============================] - 0s 2ms/step - loss: 53.1431 - mae: 5.0751\n",
      "Epoch 91/100\n",
      "13/13 [==============================] - 0s 2ms/step - loss: 52.5790 - mae: 5.0584\n",
      "Epoch 92/100\n",
      "13/13 [==============================] - 0s 2ms/step - loss: 52.6620 - mae: 5.0564\n",
      "Epoch 93/100\n",
      "13/13 [==============================] - 0s 2ms/step - loss: 51.8305 - mae: 4.9866\n",
      "Epoch 94/100\n",
      "13/13 [==============================] - 0s 2ms/step - loss: 51.8903 - mae: 5.0958\n",
      "Epoch 95/100\n",
      "13/13 [==============================] - 0s 2ms/step - loss: 51.2476 - mae: 4.9655\n",
      "Epoch 96/100\n",
      "13/13 [==============================] - 0s 2ms/step - loss: 50.8673 - mae: 4.9654\n",
      "Epoch 97/100\n",
      "13/13 [==============================] - 0s 2ms/step - loss: 50.5549 - mae: 4.9923\n",
      "Epoch 98/100\n",
      "13/13 [==============================] - 0s 2ms/step - loss: 50.0804 - mae: 4.9408\n",
      "Epoch 99/100\n",
      "13/13 [==============================] - 0s 2ms/step - loss: 49.9717 - mae: 4.8357\n",
      "Epoch 100/100\n",
      "13/13 [==============================] - 0s 2ms/step - loss: 49.7082 - mae: 4.9690\n"
     ]
    }
   ],
   "source": [
    "history=model.fit(x_train, y_train, batch_size=32, epochs=100, verbose=1)"
   ]
  },
  {
   "cell_type": "code",
   "execution_count": 23,
   "id": "f8cd4ba3",
   "metadata": {},
   "outputs": [
    {
     "name": "stdout",
     "output_type": "stream",
     "text": [
      "4/4 [==============================] - 0s 2ms/step - loss: 37.4353 - mae: 4.1769\n",
      "Mean Squred Error = [37.435340881347656, 4.176915645599365]\n"
     ]
    }
   ],
   "source": [
    "loss = model.evaluate(x_test, y_test, verbose=1)\n",
    "print(f'Mean Squred Error = {loss}')"
   ]
  },
  {
   "cell_type": "code",
   "execution_count": 24,
   "id": "ce688658",
   "metadata": {},
   "outputs": [
    {
     "name": "stdout",
     "output_type": "stream",
     "text": [
      "4/4 [==============================] - 0s 2ms/step\n"
     ]
    }
   ],
   "source": [
    "y_pred  = model.predict(x_test)"
   ]
  },
  {
   "cell_type": "code",
   "execution_count": 25,
   "id": "93909b34",
   "metadata": {},
   "outputs": [
    {
     "name": "stdout",
     "output_type": "stream",
     "text": [
      "Mae: 4.176915112663718\n",
      "Mse: 37.43534007843571\n",
      "rmse: 6.118442618709087\n"
     ]
    }
   ],
   "source": [
    "from sklearn.metrics import mean_absolute_error\n",
    "from sklearn import metrics\n",
    "print(\"Mae:\",mean_absolute_error(y_test, y_pred ))\n",
    "print(\"Mse:\",metrics.mean_squared_error(y_test, y_pred ))\n",
    "print(\"rmse:\",np.sqrt(metrics.mean_squared_error(y_test, y_pred )))"
   ]
  },
  {
   "cell_type": "code",
   "execution_count": 26,
   "id": "29efc8e1",
   "metadata": {},
   "outputs": [
    {
     "data": {
      "image/png": "[encoded data removed]",
      "text/plain": [
       "<Figure size 432x288 with 1 Axes>"
      ]
     },
     "metadata": {
      "needs_background": "light"
     },
     "output_type": "display_data"
    }
   ],
   "source": [
    "import matplotlib.pyplot as plt\n",
    "\n",
    "# Plotting the predicted vs actual values\n",
    "plt.scatter(y_test, y_pred, color='b', alpha=0.75)\n",
    "plt.plot([y_test.min(), y_test.max()], [y_test.min(), y_test.max()],'r--' )\n",
    "\n",
    "plt.xlabel('Actual Values')\n",
    "plt.ylabel('Predicted Values')\n",
    "plt.title('Actual vs Predicted Values')\n",
    "plt.show()"
   ]
  },
  {
   "cell_type": "code",
   "execution_count": 27,
   "id": "9cb0cf95",
   "metadata": {},
   "outputs": [
    {
     "data": {
      "text/plain": [
       "<AxesSubplot:ylabel='Density'>"
      ]
     },
     "execution_count": 27,
     "metadata": {},
     "output_type": "execute_result"
    },
    {
     "data": {
      "image/png": "[encoded data removed]",
      "text/plain": [
       "<Figure size 432x288 with 1 Axes>"
      ]
     },
     "metadata": {
      "needs_background": "light"
     },
     "output_type": "display_data"
    }
   ],
   "source": [
    "import seaborn as sns\n",
    "sns.distplot((y_test-y_pred),bins=50)"
   ]
  },
  {
   "cell_type": "code",
   "execution_count": 28,
   "id": "5b040252",
   "metadata": {},
   "outputs": [
    {
     "data": {
      "image/png": "[encoded data removed]",
      "text/plain": [
       "<Figure size 432x288 with 1 Axes>"
      ]
     },
     "metadata": {
      "needs_background": "light"
     },
     "output_type": "display_data"
    }
   ],
   "source": [
    "pd.DataFrame(history.history).plot(figsize=(6, 4), xlabel=\"Epochs\", ylabel=\"Loss\", title='Loss Curves')\n",
    "plt.show()"
   ]
  },
  {
   "cell_type": "code",
   "execution_count": null,
   "id": "e56d4daa",
   "metadata": {},
   "outputs": [],
   "source": []
  },
  {
   "cell_type": "code",
   "execution_count": null,
   "id": "62f151d5",
   "metadata": {},
   "outputs": [],
   "source": []
  }
 ],
 "metadata": {
  "kernelspec": {
   "display_name": "Python 3 (ipykernel)",
   "language": "python",
   "name": "python3"
  },
  "language_info": {
   "codemirror_mode": {
    "name": "ipython",
    "version": 3
   },
   "file_extension": ".py",
   "mimetype": "text/x-python",
   "name": "python",
   "nbconvert_exporter": "python",
   "pygments_lexer": "ipython3",
   "version": "3.9.7"
  }
 },
 "nbformat": 4,
 "nbformat_minor": 5
}
